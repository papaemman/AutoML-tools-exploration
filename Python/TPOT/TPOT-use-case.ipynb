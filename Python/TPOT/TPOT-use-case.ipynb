{
 "cells": [
  {
   "cell_type": "markdown",
   "metadata": {},
   "source": [
    "## TPOT: A Python tool for automating data science"
   ]
  },
  {
   "cell_type": "markdown",
   "metadata": {},
   "source": [
    "http://www.randalolson.com/2016/05/08/tpot-a-python-tool-for-automating-data-science/"
   ]
  },
  {
   "cell_type": "code",
   "execution_count": 2,
   "metadata": {},
   "outputs": [
    {
     "name": "stdout",
     "output_type": "stream",
     "text": [
      "3.6.9 (default, Nov  7 2019, 10:44:02) \n",
      "[GCC 8.3.0]\n",
      "/usr/bin/python3\n"
     ]
    }
   ],
   "source": [
    "import sys\n",
    "print(sys.version)\n",
    "print(sys.executable)"
   ]
  },
  {
   "cell_type": "code",
   "execution_count": 1,
   "metadata": {},
   "outputs": [],
   "source": [
    "# Load dependencies\n",
    "import pandas as pd  \n",
    "import numpy as np  "
   ]
  },
  {
   "cell_type": "markdown",
   "metadata": {},
   "source": [
    "### MNIST dataset"
   ]
  },
  {
   "cell_type": "code",
   "execution_count": 3,
   "metadata": {},
   "outputs": [],
   "source": [
    "# Load data\n",
    "mnist_data = pd.read_csv('https://raw.githubusercontent.com/rhiever/Data-Analysis-and-Machine-Learning-Projects/master/tpot-demo/mnist.csv.gz', sep='\\t', compression='gzip') "
   ]
  },
  {
   "cell_type": "code",
   "execution_count": 10,
   "metadata": {},
   "outputs": [
    {
     "name": "stdout",
     "output_type": "stream",
     "text": [
      "<class 'pandas.core.frame.DataFrame'>\n"
     ]
    },
    {
     "data": {
      "text/html": [
       "<div>\n",
       "<style scoped>\n",
       "    .dataframe tbody tr th:only-of-type {\n",
       "        vertical-align: middle;\n",
       "    }\n",
       "\n",
       "    .dataframe tbody tr th {\n",
       "        vertical-align: top;\n",
       "    }\n",
       "\n",
       "    .dataframe thead th {\n",
       "        text-align: right;\n",
       "    }\n",
       "</style>\n",
       "<table border=\"1\" class=\"dataframe\">\n",
       "  <thead>\n",
       "    <tr style=\"text-align: right;\">\n",
       "      <th></th>\n",
       "      <th>class</th>\n",
       "      <th>1</th>\n",
       "      <th>2</th>\n",
       "      <th>3</th>\n",
       "      <th>4</th>\n",
       "      <th>5</th>\n",
       "      <th>6</th>\n",
       "      <th>7</th>\n",
       "      <th>8</th>\n",
       "      <th>9</th>\n",
       "      <th>...</th>\n",
       "      <th>775</th>\n",
       "      <th>776</th>\n",
       "      <th>777</th>\n",
       "      <th>778</th>\n",
       "      <th>779</th>\n",
       "      <th>780</th>\n",
       "      <th>781</th>\n",
       "      <th>782</th>\n",
       "      <th>783</th>\n",
       "      <th>784</th>\n",
       "    </tr>\n",
       "  </thead>\n",
       "  <tbody>\n",
       "    <tr>\n",
       "      <th>0</th>\n",
       "      <td>7</td>\n",
       "      <td>0</td>\n",
       "      <td>0</td>\n",
       "      <td>0</td>\n",
       "      <td>0</td>\n",
       "      <td>0</td>\n",
       "      <td>0</td>\n",
       "      <td>0</td>\n",
       "      <td>0</td>\n",
       "      <td>0</td>\n",
       "      <td>...</td>\n",
       "      <td>0</td>\n",
       "      <td>0</td>\n",
       "      <td>0</td>\n",
       "      <td>0</td>\n",
       "      <td>0</td>\n",
       "      <td>0</td>\n",
       "      <td>0</td>\n",
       "      <td>0</td>\n",
       "      <td>0</td>\n",
       "      <td>0</td>\n",
       "    </tr>\n",
       "    <tr>\n",
       "      <th>1</th>\n",
       "      <td>2</td>\n",
       "      <td>0</td>\n",
       "      <td>0</td>\n",
       "      <td>0</td>\n",
       "      <td>0</td>\n",
       "      <td>0</td>\n",
       "      <td>0</td>\n",
       "      <td>0</td>\n",
       "      <td>0</td>\n",
       "      <td>0</td>\n",
       "      <td>...</td>\n",
       "      <td>0</td>\n",
       "      <td>0</td>\n",
       "      <td>0</td>\n",
       "      <td>0</td>\n",
       "      <td>0</td>\n",
       "      <td>0</td>\n",
       "      <td>0</td>\n",
       "      <td>0</td>\n",
       "      <td>0</td>\n",
       "      <td>0</td>\n",
       "    </tr>\n",
       "    <tr>\n",
       "      <th>2</th>\n",
       "      <td>1</td>\n",
       "      <td>0</td>\n",
       "      <td>0</td>\n",
       "      <td>0</td>\n",
       "      <td>0</td>\n",
       "      <td>0</td>\n",
       "      <td>0</td>\n",
       "      <td>0</td>\n",
       "      <td>0</td>\n",
       "      <td>0</td>\n",
       "      <td>...</td>\n",
       "      <td>0</td>\n",
       "      <td>0</td>\n",
       "      <td>0</td>\n",
       "      <td>0</td>\n",
       "      <td>0</td>\n",
       "      <td>0</td>\n",
       "      <td>0</td>\n",
       "      <td>0</td>\n",
       "      <td>0</td>\n",
       "      <td>0</td>\n",
       "    </tr>\n",
       "    <tr>\n",
       "      <th>3</th>\n",
       "      <td>0</td>\n",
       "      <td>0</td>\n",
       "      <td>0</td>\n",
       "      <td>0</td>\n",
       "      <td>0</td>\n",
       "      <td>0</td>\n",
       "      <td>0</td>\n",
       "      <td>0</td>\n",
       "      <td>0</td>\n",
       "      <td>0</td>\n",
       "      <td>...</td>\n",
       "      <td>0</td>\n",
       "      <td>0</td>\n",
       "      <td>0</td>\n",
       "      <td>0</td>\n",
       "      <td>0</td>\n",
       "      <td>0</td>\n",
       "      <td>0</td>\n",
       "      <td>0</td>\n",
       "      <td>0</td>\n",
       "      <td>0</td>\n",
       "    </tr>\n",
       "    <tr>\n",
       "      <th>4</th>\n",
       "      <td>4</td>\n",
       "      <td>0</td>\n",
       "      <td>0</td>\n",
       "      <td>0</td>\n",
       "      <td>0</td>\n",
       "      <td>0</td>\n",
       "      <td>0</td>\n",
       "      <td>0</td>\n",
       "      <td>0</td>\n",
       "      <td>0</td>\n",
       "      <td>...</td>\n",
       "      <td>0</td>\n",
       "      <td>0</td>\n",
       "      <td>0</td>\n",
       "      <td>0</td>\n",
       "      <td>0</td>\n",
       "      <td>0</td>\n",
       "      <td>0</td>\n",
       "      <td>0</td>\n",
       "      <td>0</td>\n",
       "      <td>0</td>\n",
       "    </tr>\n",
       "  </tbody>\n",
       "</table>\n",
       "<p>5 rows × 785 columns</p>\n",
       "</div>"
      ],
      "text/plain": [
       "   class  1  2  3  4  5  6  7  8  9  ...  775  776  777  778  779  780  781  \\\n",
       "0      7  0  0  0  0  0  0  0  0  0  ...    0    0    0    0    0    0    0   \n",
       "1      2  0  0  0  0  0  0  0  0  0  ...    0    0    0    0    0    0    0   \n",
       "2      1  0  0  0  0  0  0  0  0  0  ...    0    0    0    0    0    0    0   \n",
       "3      0  0  0  0  0  0  0  0  0  0  ...    0    0    0    0    0    0    0   \n",
       "4      4  0  0  0  0  0  0  0  0  0  ...    0    0    0    0    0    0    0   \n",
       "\n",
       "   782  783  784  \n",
       "0    0    0    0  \n",
       "1    0    0    0  \n",
       "2    0    0    0  \n",
       "3    0    0    0  \n",
       "4    0    0    0  \n",
       "\n",
       "[5 rows x 785 columns]"
      ]
     },
     "execution_count": 10,
     "metadata": {},
     "output_type": "execute_result"
    }
   ],
   "source": [
    "print(type(mnist_data))\n",
    "mnist_data.head()"
   ]
  },
  {
   "cell_type": "markdown",
   "metadata": {},
   "source": [
    "# Hyperparameter optimization is importnat"
   ]
  },
  {
   "cell_type": "code",
   "execution_count": 15,
   "metadata": {},
   "outputs": [],
   "source": [
    "from sklearn.ensemble import RandomForestClassifier  \n",
    "from sklearn.model_selection import cross_val_score  \n",
    "  \n",
    "cv_scores = cross_val_score(RandomForestClassifier(n_estimators=10, n_jobs=-1),  \n",
    "                            X=mnist_data.drop('class', axis=1).values,  \n",
    "                            y=mnist_data.loc[:, 'class'].values,  \n",
    "                            cv=10) "
   ]
  },
  {
   "cell_type": "code",
   "execution_count": 16,
   "metadata": {},
   "outputs": [
    {
     "name": "stdout",
     "output_type": "stream",
     "text": [
      "[0.941      0.96042857 0.94828571 0.94185714 0.94971429 0.94171429\n",
      " 0.94914286 0.94414286 0.94014286 0.95814286]\n",
      "0.9474571428571428\n"
     ]
    }
   ],
   "source": [
    "print(cv_scores)  \n",
    "print(np.mean(cv_scores)) "
   ]
  },
  {
   "cell_type": "markdown",
   "metadata": {},
   "source": [
    "**Motivation** <br/>\n",
    "The random forest achieves an average of 94.7% cross-validation accuracy on MNIST. <br/>\n",
    "However, what if we tuned that hyperparameter a little bit and provided the random forest with 100 trees instead?"
   ]
  },
  {
   "cell_type": "markdown",
   "metadata": {},
   "source": [
    "## Model selection is important"
   ]
  },
  {
   "cell_type": "code",
   "execution_count": 17,
   "metadata": {},
   "outputs": [],
   "source": [
    "# Load dataset\n",
    "hill_valley_data = pd.read_csv('https://raw.githubusercontent.com/rhiever/Data-Analysis-and-Machine-Learning-Projects/master/tpot-demo/Hill_Valley_without_noise.csv.gz', sep='\\t', compression='gzip')  "
   ]
  },
  {
   "cell_type": "code",
   "execution_count": 28,
   "metadata": {},
   "outputs": [
    {
     "data": {
      "text/html": [
       "<div>\n",
       "<style scoped>\n",
       "    .dataframe tbody tr th:only-of-type {\n",
       "        vertical-align: middle;\n",
       "    }\n",
       "\n",
       "    .dataframe tbody tr th {\n",
       "        vertical-align: top;\n",
       "    }\n",
       "\n",
       "    .dataframe thead th {\n",
       "        text-align: right;\n",
       "    }\n",
       "</style>\n",
       "<table border=\"1\" class=\"dataframe\">\n",
       "  <thead>\n",
       "    <tr style=\"text-align: right;\">\n",
       "      <th></th>\n",
       "      <th>X1</th>\n",
       "      <th>X2</th>\n",
       "      <th>X3</th>\n",
       "      <th>X4</th>\n",
       "      <th>X5</th>\n",
       "      <th>X6</th>\n",
       "      <th>X7</th>\n",
       "      <th>X8</th>\n",
       "      <th>X9</th>\n",
       "      <th>X10</th>\n",
       "      <th>...</th>\n",
       "      <th>X92</th>\n",
       "      <th>X93</th>\n",
       "      <th>X94</th>\n",
       "      <th>X95</th>\n",
       "      <th>X96</th>\n",
       "      <th>X97</th>\n",
       "      <th>X98</th>\n",
       "      <th>X99</th>\n",
       "      <th>X100</th>\n",
       "      <th>class</th>\n",
       "    </tr>\n",
       "  </thead>\n",
       "  <tbody>\n",
       "    <tr>\n",
       "      <th>0</th>\n",
       "      <td>1317.265789</td>\n",
       "      <td>1315.220951</td>\n",
       "      <td>1312.770581</td>\n",
       "      <td>1309.834252</td>\n",
       "      <td>1306.315588</td>\n",
       "      <td>1302.099102</td>\n",
       "      <td>1297.046401</td>\n",
       "      <td>1290.991646</td>\n",
       "      <td>1283.736109</td>\n",
       "      <td>1275.041652</td>\n",
       "      <td>...</td>\n",
       "      <td>1327.575109</td>\n",
       "      <td>1327.575350</td>\n",
       "      <td>1327.575552</td>\n",
       "      <td>1327.575719</td>\n",
       "      <td>1327.575859</td>\n",
       "      <td>1327.575976</td>\n",
       "      <td>1327.576074</td>\n",
       "      <td>1327.576155</td>\n",
       "      <td>1327.576223</td>\n",
       "      <td>0</td>\n",
       "    </tr>\n",
       "    <tr>\n",
       "      <th>1</th>\n",
       "      <td>7329.967624</td>\n",
       "      <td>7379.907443</td>\n",
       "      <td>7441.799231</td>\n",
       "      <td>7518.503422</td>\n",
       "      <td>7613.565031</td>\n",
       "      <td>7731.377492</td>\n",
       "      <td>7877.385707</td>\n",
       "      <td>8058.337694</td>\n",
       "      <td>8282.596458</td>\n",
       "      <td>8560.526497</td>\n",
       "      <td>...</td>\n",
       "      <td>7121.300474</td>\n",
       "      <td>7121.300438</td>\n",
       "      <td>7121.300410</td>\n",
       "      <td>7121.300387</td>\n",
       "      <td>7121.300368</td>\n",
       "      <td>7121.300353</td>\n",
       "      <td>7121.300341</td>\n",
       "      <td>7121.300331</td>\n",
       "      <td>7121.300323</td>\n",
       "      <td>1</td>\n",
       "    </tr>\n",
       "    <tr>\n",
       "      <th>2</th>\n",
       "      <td>809.421410</td>\n",
       "      <td>809.780119</td>\n",
       "      <td>810.207191</td>\n",
       "      <td>810.715653</td>\n",
       "      <td>811.321016</td>\n",
       "      <td>812.041748</td>\n",
       "      <td>812.899834</td>\n",
       "      <td>813.921452</td>\n",
       "      <td>815.137768</td>\n",
       "      <td>816.585886</td>\n",
       "      <td>...</td>\n",
       "      <td>807.545134</td>\n",
       "      <td>807.544181</td>\n",
       "      <td>807.543381</td>\n",
       "      <td>807.542709</td>\n",
       "      <td>807.542144</td>\n",
       "      <td>807.541670</td>\n",
       "      <td>807.541272</td>\n",
       "      <td>807.540937</td>\n",
       "      <td>807.540656</td>\n",
       "      <td>1</td>\n",
       "    </tr>\n",
       "    <tr>\n",
       "      <th>3</th>\n",
       "      <td>45334.208880</td>\n",
       "      <td>45334.213560</td>\n",
       "      <td>45334.219060</td>\n",
       "      <td>45334.225500</td>\n",
       "      <td>45334.233050</td>\n",
       "      <td>45334.241910</td>\n",
       "      <td>45334.252300</td>\n",
       "      <td>45334.264480</td>\n",
       "      <td>45334.278760</td>\n",
       "      <td>45334.295520</td>\n",
       "      <td>...</td>\n",
       "      <td>47550.921710</td>\n",
       "      <td>47224.457710</td>\n",
       "      <td>46946.072760</td>\n",
       "      <td>46708.686150</td>\n",
       "      <td>46506.259970</td>\n",
       "      <td>46333.645520</td>\n",
       "      <td>46186.452370</td>\n",
       "      <td>46060.936670</td>\n",
       "      <td>45953.905930</td>\n",
       "      <td>1</td>\n",
       "    </tr>\n",
       "    <tr>\n",
       "      <th>4</th>\n",
       "      <td>1.810359</td>\n",
       "      <td>1.810359</td>\n",
       "      <td>1.810359</td>\n",
       "      <td>1.810359</td>\n",
       "      <td>1.810359</td>\n",
       "      <td>1.810359</td>\n",
       "      <td>1.810359</td>\n",
       "      <td>1.810359</td>\n",
       "      <td>1.810359</td>\n",
       "      <td>1.810359</td>\n",
       "      <td>...</td>\n",
       "      <td>1.790275</td>\n",
       "      <td>1.794794</td>\n",
       "      <td>1.798296</td>\n",
       "      <td>1.801010</td>\n",
       "      <td>1.803114</td>\n",
       "      <td>1.804744</td>\n",
       "      <td>1.806008</td>\n",
       "      <td>1.806987</td>\n",
       "      <td>1.807746</td>\n",
       "      <td>0</td>\n",
       "    </tr>\n",
       "    <tr>\n",
       "      <th>5</th>\n",
       "      <td>2.073517</td>\n",
       "      <td>2.073546</td>\n",
       "      <td>2.073581</td>\n",
       "      <td>2.073622</td>\n",
       "      <td>2.073671</td>\n",
       "      <td>2.073730</td>\n",
       "      <td>2.073799</td>\n",
       "      <td>2.073880</td>\n",
       "      <td>2.073977</td>\n",
       "      <td>2.074092</td>\n",
       "      <td>...</td>\n",
       "      <td>2.074388</td>\n",
       "      <td>2.074227</td>\n",
       "      <td>2.074092</td>\n",
       "      <td>2.073977</td>\n",
       "      <td>2.073880</td>\n",
       "      <td>2.073799</td>\n",
       "      <td>2.073730</td>\n",
       "      <td>2.073671</td>\n",
       "      <td>2.073622</td>\n",
       "      <td>1</td>\n",
       "    </tr>\n",
       "    <tr>\n",
       "      <th>6</th>\n",
       "      <td>382.135104</td>\n",
       "      <td>382.135106</td>\n",
       "      <td>382.135109</td>\n",
       "      <td>382.135113</td>\n",
       "      <td>382.135117</td>\n",
       "      <td>382.135123</td>\n",
       "      <td>382.135130</td>\n",
       "      <td>382.135138</td>\n",
       "      <td>382.135148</td>\n",
       "      <td>382.135161</td>\n",
       "      <td>...</td>\n",
       "      <td>388.980545</td>\n",
       "      <td>387.663542</td>\n",
       "      <td>386.599919</td>\n",
       "      <td>385.740927</td>\n",
       "      <td>385.047197</td>\n",
       "      <td>384.486935</td>\n",
       "      <td>384.034462</td>\n",
       "      <td>383.669041</td>\n",
       "      <td>383.373923</td>\n",
       "      <td>1</td>\n",
       "    </tr>\n",
       "  </tbody>\n",
       "</table>\n",
       "<p>7 rows × 101 columns</p>\n",
       "</div>"
      ],
      "text/plain": [
       "             X1            X2            X3            X4            X5  \\\n",
       "0   1317.265789   1315.220951   1312.770581   1309.834252   1306.315588   \n",
       "1   7329.967624   7379.907443   7441.799231   7518.503422   7613.565031   \n",
       "2    809.421410    809.780119    810.207191    810.715653    811.321016   \n",
       "3  45334.208880  45334.213560  45334.219060  45334.225500  45334.233050   \n",
       "4      1.810359      1.810359      1.810359      1.810359      1.810359   \n",
       "5      2.073517      2.073546      2.073581      2.073622      2.073671   \n",
       "6    382.135104    382.135106    382.135109    382.135113    382.135117   \n",
       "\n",
       "             X6            X7            X8            X9           X10  ...  \\\n",
       "0   1302.099102   1297.046401   1290.991646   1283.736109   1275.041652  ...   \n",
       "1   7731.377492   7877.385707   8058.337694   8282.596458   8560.526497  ...   \n",
       "2    812.041748    812.899834    813.921452    815.137768    816.585886  ...   \n",
       "3  45334.241910  45334.252300  45334.264480  45334.278760  45334.295520  ...   \n",
       "4      1.810359      1.810359      1.810359      1.810359      1.810359  ...   \n",
       "5      2.073730      2.073799      2.073880      2.073977      2.074092  ...   \n",
       "6    382.135123    382.135130    382.135138    382.135148    382.135161  ...   \n",
       "\n",
       "            X92           X93           X94           X95           X96  \\\n",
       "0   1327.575109   1327.575350   1327.575552   1327.575719   1327.575859   \n",
       "1   7121.300474   7121.300438   7121.300410   7121.300387   7121.300368   \n",
       "2    807.545134    807.544181    807.543381    807.542709    807.542144   \n",
       "3  47550.921710  47224.457710  46946.072760  46708.686150  46506.259970   \n",
       "4      1.790275      1.794794      1.798296      1.801010      1.803114   \n",
       "5      2.074388      2.074227      2.074092      2.073977      2.073880   \n",
       "6    388.980545    387.663542    386.599919    385.740927    385.047197   \n",
       "\n",
       "            X97           X98           X99          X100  class  \n",
       "0   1327.575976   1327.576074   1327.576155   1327.576223      0  \n",
       "1   7121.300353   7121.300341   7121.300331   7121.300323      1  \n",
       "2    807.541670    807.541272    807.540937    807.540656      1  \n",
       "3  46333.645520  46186.452370  46060.936670  45953.905930      1  \n",
       "4      1.804744      1.806008      1.806987      1.807746      0  \n",
       "5      2.073799      2.073730      2.073671      2.073622      1  \n",
       "6    384.486935    384.034462    383.669041    383.373923      1  \n",
       "\n",
       "[7 rows x 101 columns]"
      ]
     },
     "execution_count": 28,
     "metadata": {},
     "output_type": "execute_result"
    }
   ],
   "source": [
    "type(hill_valley_data)\n",
    "hill_valley_data.head(7)"
   ]
  },
  {
   "cell_type": "code",
   "execution_count": 29,
   "metadata": {},
   "outputs": [
    {
     "name": "stdout",
     "output_type": "stream",
     "text": [
      "[0 1]\n"
     ]
    }
   ],
   "source": [
    "# Target: class\n",
    "print(hill_valley_data.iloc[:,100].unique())"
   ]
  },
  {
   "cell_type": "code",
   "execution_count": 30,
   "metadata": {},
   "outputs": [],
   "source": [
    "from sklearn.ensemble import RandomForestClassifier  \n",
    "from sklearn.linear_model import LogisticRegression  \n",
    "from sklearn.model_selection import cross_val_score  \n",
    "\n",
    "cv_scores = cross_val_score(RandomForestClassifier(n_estimators=100, n_jobs=-1),  \n",
    "                            X=hill_valley_data.drop('class', axis=1).values,  \n",
    "                            y=hill_valley_data.loc[:, 'class'].values,  \n",
    "                            cv=10)  "
   ]
  },
  {
   "cell_type": "code",
   "execution_count": 31,
   "metadata": {},
   "outputs": [
    {
     "name": "stdout",
     "output_type": "stream",
     "text": [
      "[0.6147541  0.62295082 0.63636364 0.61983471 0.65289256 0.5785124\n",
      " 0.66942149 0.60330579 0.48760331 0.61157025]\n",
      "0.6097209050264192\n"
     ]
    }
   ],
   "source": [
    "# Print scores\n",
    "print(cv_scores)  \n",
    "print(np.mean(cv_scores))  "
   ]
  },
  {
   "cell_type": "markdown",
   "metadata": {},
   "source": [
    "**Motivation** <br/>\n",
    "What if we tried a different model, for example a logistic regression?"
   ]
  },
  {
   "cell_type": "code",
   "execution_count": 34,
   "metadata": {},
   "outputs": [],
   "source": [
    "cv_scores = cross_val_score(LogisticRegression(max_iter = 1000),  \n",
    "                            X = hill_valley_data.drop('class', axis=1).values,  \n",
    "                            y = hill_valley_data.loc[:, 'class'].values,  \n",
    "                            cv = 10)  "
   ]
  },
  {
   "cell_type": "code",
   "execution_count": 35,
   "metadata": {},
   "outputs": [
    {
     "name": "stdout",
     "output_type": "stream",
     "text": [
      "[1.         1.         1.         0.99173554 1.         1.\n",
      " 1.         1.         1.         1.        ]\n",
      "0.9991735537190083\n"
     ]
    }
   ],
   "source": [
    "print(cv_scores)  \n",
    "print(np.mean(cv_scores))"
   ]
  },
  {
   "cell_type": "markdown",
   "metadata": {},
   "source": [
    "We’ll find that a logistic regression is well-suited for this signal processing task—in fact, it easily achieves near-100% cross-validation accuracy without any hyperparameter tuning at all.\n",
    "<br/>\n",
    "Always **try out many different machine learning models** for every machine learning task that you work on. <br/> Trying out—and tuning—different machine learning models is another tedious yet vitally important step of machine learning pipeline design."
   ]
  },
  {
   "cell_type": "markdown",
   "metadata": {},
   "source": [
    "## Feature Pre-processing is important"
   ]
  },
  {
   "cell_type": "code",
   "execution_count": 41,
   "metadata": {},
   "outputs": [
    {
     "data": {
      "text/html": [
       "<div>\n",
       "<style scoped>\n",
       "    .dataframe tbody tr th:only-of-type {\n",
       "        vertical-align: middle;\n",
       "    }\n",
       "\n",
       "    .dataframe tbody tr th {\n",
       "        vertical-align: top;\n",
       "    }\n",
       "\n",
       "    .dataframe thead th {\n",
       "        text-align: right;\n",
       "    }\n",
       "</style>\n",
       "<table border=\"1\" class=\"dataframe\">\n",
       "  <thead>\n",
       "    <tr style=\"text-align: right;\">\n",
       "      <th></th>\n",
       "      <th>X1</th>\n",
       "      <th>X2</th>\n",
       "      <th>X3</th>\n",
       "      <th>X4</th>\n",
       "      <th>X5</th>\n",
       "      <th>X6</th>\n",
       "      <th>X7</th>\n",
       "      <th>X8</th>\n",
       "      <th>X9</th>\n",
       "      <th>X10</th>\n",
       "      <th>...</th>\n",
       "      <th>X92</th>\n",
       "      <th>X93</th>\n",
       "      <th>X94</th>\n",
       "      <th>X95</th>\n",
       "      <th>X96</th>\n",
       "      <th>X97</th>\n",
       "      <th>X98</th>\n",
       "      <th>X99</th>\n",
       "      <th>X100</th>\n",
       "      <th>class</th>\n",
       "    </tr>\n",
       "  </thead>\n",
       "  <tbody>\n",
       "    <tr>\n",
       "      <th>0</th>\n",
       "      <td>39.02</td>\n",
       "      <td>36.49</td>\n",
       "      <td>38.20</td>\n",
       "      <td>38.85</td>\n",
       "      <td>39.38</td>\n",
       "      <td>39.74</td>\n",
       "      <td>37.02</td>\n",
       "      <td>39.53</td>\n",
       "      <td>38.81</td>\n",
       "      <td>38.79</td>\n",
       "      <td>...</td>\n",
       "      <td>36.62</td>\n",
       "      <td>36.92</td>\n",
       "      <td>38.80</td>\n",
       "      <td>38.52</td>\n",
       "      <td>38.07</td>\n",
       "      <td>36.73</td>\n",
       "      <td>39.46</td>\n",
       "      <td>37.50</td>\n",
       "      <td>39.10</td>\n",
       "      <td>0</td>\n",
       "    </tr>\n",
       "    <tr>\n",
       "      <th>1</th>\n",
       "      <td>1.83</td>\n",
       "      <td>1.71</td>\n",
       "      <td>1.77</td>\n",
       "      <td>1.77</td>\n",
       "      <td>1.68</td>\n",
       "      <td>1.78</td>\n",
       "      <td>1.80</td>\n",
       "      <td>1.70</td>\n",
       "      <td>1.75</td>\n",
       "      <td>1.78</td>\n",
       "      <td>...</td>\n",
       "      <td>1.80</td>\n",
       "      <td>1.79</td>\n",
       "      <td>1.77</td>\n",
       "      <td>1.74</td>\n",
       "      <td>1.74</td>\n",
       "      <td>1.80</td>\n",
       "      <td>1.78</td>\n",
       "      <td>1.75</td>\n",
       "      <td>1.69</td>\n",
       "      <td>1</td>\n",
       "    </tr>\n",
       "    <tr>\n",
       "      <th>2</th>\n",
       "      <td>68177.69</td>\n",
       "      <td>66138.42</td>\n",
       "      <td>72981.88</td>\n",
       "      <td>74304.33</td>\n",
       "      <td>67549.66</td>\n",
       "      <td>69367.34</td>\n",
       "      <td>69169.41</td>\n",
       "      <td>73268.61</td>\n",
       "      <td>74465.84</td>\n",
       "      <td>72503.37</td>\n",
       "      <td>...</td>\n",
       "      <td>73438.88</td>\n",
       "      <td>71053.35</td>\n",
       "      <td>71112.62</td>\n",
       "      <td>74916.48</td>\n",
       "      <td>72571.58</td>\n",
       "      <td>66348.97</td>\n",
       "      <td>71063.72</td>\n",
       "      <td>67404.27</td>\n",
       "      <td>74920.24</td>\n",
       "      <td>1</td>\n",
       "    </tr>\n",
       "    <tr>\n",
       "      <th>3</th>\n",
       "      <td>44889.06</td>\n",
       "      <td>39191.86</td>\n",
       "      <td>40728.46</td>\n",
       "      <td>38576.36</td>\n",
       "      <td>45876.06</td>\n",
       "      <td>47034.00</td>\n",
       "      <td>46611.43</td>\n",
       "      <td>37668.32</td>\n",
       "      <td>40980.89</td>\n",
       "      <td>38466.15</td>\n",
       "      <td>...</td>\n",
       "      <td>42625.67</td>\n",
       "      <td>40684.20</td>\n",
       "      <td>46960.73</td>\n",
       "      <td>44546.80</td>\n",
       "      <td>45410.53</td>\n",
       "      <td>47139.44</td>\n",
       "      <td>43095.68</td>\n",
       "      <td>40888.34</td>\n",
       "      <td>39615.19</td>\n",
       "      <td>0</td>\n",
       "    </tr>\n",
       "    <tr>\n",
       "      <th>4</th>\n",
       "      <td>5.70</td>\n",
       "      <td>5.40</td>\n",
       "      <td>5.28</td>\n",
       "      <td>5.38</td>\n",
       "      <td>5.27</td>\n",
       "      <td>5.61</td>\n",
       "      <td>6.00</td>\n",
       "      <td>5.38</td>\n",
       "      <td>5.34</td>\n",
       "      <td>5.87</td>\n",
       "      <td>...</td>\n",
       "      <td>5.17</td>\n",
       "      <td>5.67</td>\n",
       "      <td>5.60</td>\n",
       "      <td>5.94</td>\n",
       "      <td>5.73</td>\n",
       "      <td>5.22</td>\n",
       "      <td>5.30</td>\n",
       "      <td>5.73</td>\n",
       "      <td>5.91</td>\n",
       "      <td>0</td>\n",
       "    </tr>\n",
       "  </tbody>\n",
       "</table>\n",
       "<p>5 rows × 101 columns</p>\n",
       "</div>"
      ],
      "text/plain": [
       "         X1        X2        X3        X4        X5        X6        X7  \\\n",
       "0     39.02     36.49     38.20     38.85     39.38     39.74     37.02   \n",
       "1      1.83      1.71      1.77      1.77      1.68      1.78      1.80   \n",
       "2  68177.69  66138.42  72981.88  74304.33  67549.66  69367.34  69169.41   \n",
       "3  44889.06  39191.86  40728.46  38576.36  45876.06  47034.00  46611.43   \n",
       "4      5.70      5.40      5.28      5.38      5.27      5.61      6.00   \n",
       "\n",
       "         X8        X9       X10  ...       X92       X93       X94       X95  \\\n",
       "0     39.53     38.81     38.79  ...     36.62     36.92     38.80     38.52   \n",
       "1      1.70      1.75      1.78  ...      1.80      1.79      1.77      1.74   \n",
       "2  73268.61  74465.84  72503.37  ...  73438.88  71053.35  71112.62  74916.48   \n",
       "3  37668.32  40980.89  38466.15  ...  42625.67  40684.20  46960.73  44546.80   \n",
       "4      5.38      5.34      5.87  ...      5.17      5.67      5.60      5.94   \n",
       "\n",
       "        X96       X97       X98       X99      X100  class  \n",
       "0     38.07     36.73     39.46     37.50     39.10      0  \n",
       "1      1.74      1.80      1.78      1.75      1.69      1  \n",
       "2  72571.58  66348.97  71063.72  67404.27  74920.24      1  \n",
       "3  45410.53  47139.44  43095.68  40888.34  39615.19      0  \n",
       "4      5.73      5.22      5.30      5.73      5.91      0  \n",
       "\n",
       "[5 rows x 101 columns]"
      ]
     },
     "execution_count": 41,
     "metadata": {},
     "output_type": "execute_result"
    }
   ],
   "source": [
    "# Import noisy data\n",
    "hill_valley_noisy_data = pd.read_csv('https://raw.githubusercontent.com/rhiever/Data-Analysis-and-Machine-Learning-Projects/master/tpot-demo/Hill_Valley_with_noise.csv.gz', sep='\\t', compression='gzip') \n",
    "hill_valley_noisy_data.head()"
   ]
  },
  {
   "cell_type": "code",
   "execution_count": 43,
   "metadata": {},
   "outputs": [],
   "source": [
    "from sklearn.ensemble import RandomForestClassifier  \n",
    "from sklearn.decomposition import PCA  \n",
    "from sklearn.pipeline import make_pipeline  \n",
    "from sklearn.model_selection import cross_val_score  \n",
    " \n",
    "cv_scores = cross_val_score(RandomForestClassifier(n_estimators=100, n_jobs=-1),  \n",
    "                            X=hill_valley_noisy_data.drop('class', axis=1).values,  \n",
    "                            y=hill_valley_noisy_data.loc[:, 'class'].values,  \n",
    "                            cv=10)  "
   ]
  },
  {
   "cell_type": "code",
   "execution_count": 44,
   "metadata": {},
   "outputs": [
    {
     "name": "stdout",
     "output_type": "stream",
     "text": [
      "[0.51639344 0.54098361 0.52892562 0.60330579 0.6446281  0.58677686\n",
      " 0.61983471 0.61157025 0.60330579 0.54545455]\n",
      "0.5801178702072889\n"
     ]
    }
   ],
   "source": [
    "# Print scores\n",
    "print(cv_scores)\n",
    "print(np.mean(cv_scores))"
   ]
  },
  {
   "cell_type": "markdown",
   "metadata": {},
   "source": [
    "We’ll again find that the **“tuned” random forest** averages a disappointing 57.8% cross-validation accuracy."
   ]
  },
  {
   "cell_type": "markdown",
   "metadata": {},
   "source": [
    "However, if we preprocess the **features—denoising them via Principal Component Analysis (PCA)**, for example:"
   ]
  },
  {
   "cell_type": "code",
   "execution_count": 45,
   "metadata": {},
   "outputs": [],
   "source": [
    "cv_scores = cross_val_score(make_pipeline(PCA(n_components=10),  \n",
    "                                          RandomForestClassifier(n_estimators=100, n_jobs=-1)),  \n",
    "                            X=hill_valley_noisy_data.drop('class', axis=1).values,  \n",
    "                            y=hill_valley_noisy_data.loc[:, 'class'].values,  \n",
    "                            cv=10)   "
   ]
  },
  {
   "cell_type": "code",
   "execution_count": 46,
   "metadata": {},
   "outputs": [
    {
     "name": "stdout",
     "output_type": "stream",
     "text": [
      "[0.93442623 0.96721311 0.87603306 0.95041322 0.95041322 0.90909091\n",
      " 0.91735537 0.92561983 0.89256198 0.95867769]\n",
      "0.9281804633518492\n"
     ]
    }
   ],
   "source": [
    "# Print scores\n",
    "print(cv_scores)  \n",
    "print(np.mean(cv_scores)) "
   ]
  },
  {
   "cell_type": "markdown",
   "metadata": {},
   "source": [
    "## Automating data science with TPOT"
   ]
  },
  {
   "cell_type": "code",
   "execution_count": 48,
   "metadata": {},
   "outputs": [],
   "source": [
    "from sklearn.model_selection import train_test_split\n",
    "from tpot import TPOTClassifier  \n",
    "\n",
    "X = hill_valley_noisy_data.drop('class', axis=1).values  \n",
    "y = hill_valley_noisy_data.loc[:, 'class'].values  \n",
    "  \n",
    "X_train, X_test, y_train, y_test = train_test_split(X, y,  \n",
    "                                                    train_size=0.75,  \n",
    "                                                    test_size=0.25)  "
   ]
  },
  {
   "cell_type": "code",
   "execution_count": null,
   "metadata": {},
   "outputs": [],
   "source": [
    "# Fit TPOT Classifier\n",
    "\n",
    "my_tpot = TPOTClassifier(generations=10)  \n",
    "my_tpot.fit(X_train, y_train)  \n",
    "  \n",
    "print(my_tpot.score(X_test, y_test))     "
   ]
  },
  {
   "cell_type": "markdown",
   "metadata": {},
   "source": [
    "If we want to see what pipeline TPOT created, TPOT can export the corresponding scikit-learn code for us with the export() command:"
   ]
  },
  {
   "cell_type": "code",
   "execution_count": null,
   "metadata": {},
   "outputs": [],
   "source": [
    "my_tpot.export('exported_pipeline.py')"
   ]
  },
  {
   "cell_type": "raw",
   "metadata": {},
   "source": [
    "---------------------------\n",
    "Exportes_pipeline.py \n",
    "---------------------------\n",
    "\n",
    "import numpy as np  \n",
    "\n",
    "from sklearn.cross_validation import train_test_split  \n",
    "from sklearn.ensemble import GradientBoostingClassifier  \n",
    "from sklearn.pipeline import make_pipeline  \n",
    "from sklearn.preprocessing import Normalizer  \n",
    "  \n",
    "# NOTE: Make sure that the class is labeled 'class' in the data file  \n",
    "\n",
    "tpot_data = np.recfromcsv('PATH/TO/DATA/FILE', sep='COLUMN_SEPARATOR', dtype=np.float64)  \n",
    "features = np.delete(tpot_data.view(np.float64).reshape(tpot_data.size, -1), tpot_data.dtype.names.index('class'), axis=1)  \n",
    "\n",
    "training_features, testing_features, training_classes, testing_classes = \\  \n",
    "    train_test_split(features, tpot_data['class'], random_state=42)  \n",
    "  \n",
    "exported_pipeline = make_pipeline(  \n",
    "    Normalizer(norm=\"l2\"),  \n",
    "    GradientBoostingClassifier(learning_rate=0.97, max_features=0.97, n_estimators=500)  \n",
    ")  \n",
    "  \n",
    "exported_pipeline.fit(training_features, training_classes)  \n",
    "results = exported_pipeline.predict(testing_features)  "
   ]
  }
 ],
 "metadata": {
  "kernelspec": {
   "display_name": "Python 3",
   "language": "python",
   "name": "python3"
  },
  "language_info": {
   "codemirror_mode": {
    "name": "ipython",
    "version": 3
   },
   "file_extension": ".py",
   "mimetype": "text/x-python",
   "name": "python",
   "nbconvert_exporter": "python",
   "pygments_lexer": "ipython3",
   "version": "3.6.9"
  }
 },
 "nbformat": 4,
 "nbformat_minor": 2
}
