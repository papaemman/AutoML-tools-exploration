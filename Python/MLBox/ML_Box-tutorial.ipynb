{
 "cells": [
  {
   "cell_type": "markdown",
   "metadata": {},
   "source": [
    "## Getting started: 30 seconds to MLBox"
   ]
  },
  {
   "cell_type": "markdown",
   "metadata": {},
   "source": [
    "**MLBox main package contains 3 sub-packages**:\n",
    "\n",
    "* **preprocessing**\n",
    "* **optimisation**\n",
    "* **prediction**\n",
    "    \n",
    "    \n",
    "Each one of them are respectively aimed at:\n",
    "* reading and preprocessing data, \n",
    "* testing or optimising a wide range of learners\n",
    "* predicting the target on a test dataset.\n"
   ]
  },
  {
   "cell_type": "code",
   "execution_count": null,
   "metadata": {},
   "outputs": [],
   "source": [
    "# Here are a few lines to import the MLBox\n",
    "from mlbox.preprocessing import *\n",
    "from mlbox.optimisation import *\n",
    "from mlbox.prediction import *"
   ]
  },
  {
   "cell_type": "markdown",
   "metadata": {},
   "source": [
    "Then, all you need to give is :\n",
    "\n",
    "* the list of paths to your train datasets and test datasets\n",
    "* the name of the target you try to predict (classification or regression)"
   ]
  },
  {
   "cell_type": "code",
   "execution_count": null,
   "metadata": {},
   "outputs": [],
   "source": [
    "paths = [\"<file_1>.csv\", \"<file_2>.csv\", ..., \"<file_n>.csv\"] #to modify\n",
    "target_name = \"<my_target>\" #to modify"
   ]
  },
  {
   "cell_type": "markdown",
   "metadata": {},
   "source": [
    "** Now, let the MLBox do the job ! **"
   ]
  },
  {
   "cell_type": "code",
   "execution_count": null,
   "metadata": {},
   "outputs": [],
   "source": [
    "# To read and preprocess your files :\n",
    "\n",
    "data = Reader(sep=\",\").train_test_split(paths, target_name)  #reading\n",
    "data = Drift_thresholder().fit_transform(data)               #deleting non-stable variables\n",
    "\n",
    "\n",
    "# To evaluate models (here default configuration):\n",
    "Optimiser().evaluate(None, data)\n",
    "\n",
    "\n",
    "\n",
    "\n",
    "missing data encoder, aka ‘ne’\n",
    "categorical variables encoder, aka ‘ce’\n",
    "feature selector, aka ‘fs’\n",
    "meta-features stacker, aka ‘stck’\n",
    "final estimator, aka ‘est’\n",
    "NB : please have a look at all the possibilities you have to configure the Pipeline (steps, parameters and values…)\n",
    "\n"
   ]
  },
  {
   "cell_type": "code",
   "execution_count": null,
   "metadata": {},
   "outputs": [],
   "source": [
    "# To test and optimize the whole Pipeline [OPTIONAL]:\n",
    "\n",
    "space = {\n",
    "\n",
    "        'ne__numerical_strategy' : {\"space\" : [0, 'mean']},\n",
    "\n",
    "        'ce__strategy' : {\"space\" : [\"label_encoding\", \"random_projection\", \"entity_embedding\"]},\n",
    "\n",
    "        'fs__strategy' : {\"space\" : [\"variance\", \"rf_feature_importance\"]},\n",
    "        'fs__threshold': {\"search\" : \"choice\", \"space\" : [0.1, 0.2, 0.3]},\n",
    "\n",
    "        'est__strategy' : {\"space\" : [\"LightGBM\"]},\n",
    "        'est__max_depth' : {\"search\" : \"choice\", \"space\" : [5,6]},\n",
    "        'est__subsample' : {\"search\" : \"uniform\", \"space\" : [0.6,0.9]}\n",
    "\n",
    "        }\n",
    "\n",
    "\n",
    "best = opt.optimise(space, data, max_evals = 5)\n",
    "\n"
   ]
  },
  {
   "cell_type": "code",
   "execution_count": null,
   "metadata": {},
   "outputs": [],
   "source": [
    "# finally to predict on the test set with the best parameters (or None for default configuration):\n",
    "Predictor().fit_predict(best, data)"
   ]
  },
  {
   "cell_type": "markdown",
   "metadata": {},
   "source": [
    "That’s all ! You can have a look at the folder **“save”** where you can find :\n",
    "* your predictions\n",
    "* feature importances\n",
    "* drift coefficients of your variables (0.5 = very stable, 1. = not stable at all)"
   ]
  }
 ],
 "metadata": {
  "kernelspec": {
   "display_name": "Python 3",
   "language": "python",
   "name": "python3"
  },
  "language_info": {
   "codemirror_mode": {
    "name": "ipython",
    "version": 3
   },
   "file_extension": ".py",
   "mimetype": "text/x-python",
   "name": "python",
   "nbconvert_exporter": "python",
   "pygments_lexer": "ipython3",
   "version": "3.6.9"
  }
 },
 "nbformat": 4,
 "nbformat_minor": 2
}
