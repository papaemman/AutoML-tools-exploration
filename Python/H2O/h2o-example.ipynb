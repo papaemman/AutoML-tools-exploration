{
 "cells": [
  {
   "cell_type": "markdown",
   "metadata": {},
   "source": [
    "## H2O Auto ML"
   ]
  },
  {
   "cell_type": "code",
   "execution_count": 3,
   "metadata": {},
   "outputs": [
    {
     "name": "stdout",
     "output_type": "stream",
     "text": [
      "Checking whether there is an H2O instance running at http://localhost:54321 ..... not found.\n",
      "Attempting to start a local H2O server...\n",
      "  Java Version: openjdk version \"11.0.6\" 2020-01-14; OpenJDK Runtime Environment (build 11.0.6+10-post-Ubuntu-1ubuntu118.04.1); OpenJDK 64-Bit Server VM (build 11.0.6+10-post-Ubuntu-1ubuntu118.04.1, mixed mode, sharing)\n",
      "  Starting server from /home/user7/.local/lib/python3.6/site-packages/h2o/backend/bin/h2o.jar\n",
      "  Ice root: /tmp/tmp8fgk4ijb\n",
      "  JVM stdout: /tmp/tmp8fgk4ijb/h2o_user7_started_from_python.out\n",
      "  JVM stderr: /tmp/tmp8fgk4ijb/h2o_user7_started_from_python.err\n",
      "  Server is running at http://127.0.0.1:54321\n",
      "Connecting to H2O server at http://127.0.0.1:54321 ... successful.\n"
     ]
    },
    {
     "data": {
      "text/html": [
       "<div style=\"overflow:auto\"><table style=\"width:50%\"><tr><td>H2O cluster uptime:</td>\n",
       "<td>01 secs</td></tr>\n",
       "<tr><td>H2O cluster timezone:</td>\n",
       "<td>Europe/Athens</td></tr>\n",
       "<tr><td>H2O data parsing timezone:</td>\n",
       "<td>UTC</td></tr>\n",
       "<tr><td>H2O cluster version:</td>\n",
       "<td>3.28.0.2</td></tr>\n",
       "<tr><td>H2O cluster version age:</td>\n",
       "<td>10 days </td></tr>\n",
       "<tr><td>H2O cluster name:</td>\n",
       "<td>H2O_from_python_user7_8bmr70</td></tr>\n",
       "<tr><td>H2O cluster total nodes:</td>\n",
       "<td>1</td></tr>\n",
       "<tr><td>H2O cluster free memory:</td>\n",
       "<td>1.781 Gb</td></tr>\n",
       "<tr><td>H2O cluster total cores:</td>\n",
       "<td>8</td></tr>\n",
       "<tr><td>H2O cluster allowed cores:</td>\n",
       "<td>8</td></tr>\n",
       "<tr><td>H2O cluster status:</td>\n",
       "<td>accepting new members, healthy</td></tr>\n",
       "<tr><td>H2O connection url:</td>\n",
       "<td>http://127.0.0.1:54321</td></tr>\n",
       "<tr><td>H2O connection proxy:</td>\n",
       "<td>{'http': None, 'https': None}</td></tr>\n",
       "<tr><td>H2O internal security:</td>\n",
       "<td>False</td></tr>\n",
       "<tr><td>H2O API Extensions:</td>\n",
       "<td>Amazon S3, XGBoost, Algos, AutoML, Core V3, TargetEncoder, Core V4</td></tr>\n",
       "<tr><td>Python version:</td>\n",
       "<td>3.6.9 final</td></tr></table></div>"
      ],
      "text/plain": [
       "--------------------------  ------------------------------------------------------------------\n",
       "H2O cluster uptime:         01 secs\n",
       "H2O cluster timezone:       Europe/Athens\n",
       "H2O data parsing timezone:  UTC\n",
       "H2O cluster version:        3.28.0.2\n",
       "H2O cluster version age:    10 days\n",
       "H2O cluster name:           H2O_from_python_user7_8bmr70\n",
       "H2O cluster total nodes:    1\n",
       "H2O cluster free memory:    1.781 Gb\n",
       "H2O cluster total cores:    8\n",
       "H2O cluster allowed cores:  8\n",
       "H2O cluster status:         accepting new members, healthy\n",
       "H2O connection url:         http://127.0.0.1:54321\n",
       "H2O connection proxy:       {'http': None, 'https': None}\n",
       "H2O internal security:      False\n",
       "H2O API Extensions:         Amazon S3, XGBoost, Algos, AutoML, Core V3, TargetEncoder, Core V4\n",
       "Python version:             3.6.9 final\n",
       "--------------------------  ------------------------------------------------------------------"
      ]
     },
     "metadata": {},
     "output_type": "display_data"
    }
   ],
   "source": [
    "import h2o\n",
    "from h2o.automl import H2OAutoML, get_leaderboard\n",
    "h2o.init()"
   ]
  },
  {
   "cell_type": "code",
   "execution_count": 5,
   "metadata": {},
   "outputs": [
    {
     "name": "stdout",
     "output_type": "stream",
     "text": [
      "Parse progress: |█████████████████████████████████████████████████████████| 100%\n",
      "Parse progress: |█████████████████████████████████████████████████████████| 100%\n"
     ]
    }
   ],
   "source": [
    "# Import a sample binary outcome train/test set into H2O\n",
    "train = h2o.import_file(\"https://s3.amazonaws.com/erin-data/higgs/higgs_train_10k.csv\")\n",
    "test = h2o.import_file(\"https://s3.amazonaws.com/erin-data/higgs/higgs_test_5k.csv\")\n",
    "\n",
    "# Identify predictors and response\n",
    "x = train.columns\n",
    "y = \"response\"\n",
    "x.remove(y)\n",
    "\n",
    "# For binary classification, response should be a factor\n",
    "train[y] = train[y].asfactor()\n",
    "test[y] = test[y].asfactor()"
   ]
  },
  {
   "cell_type": "code",
   "execution_count": null,
   "metadata": {},
   "outputs": [],
   "source": [
    "type(x)\n",
    "type(y)\n",
    "type(train)\n",
    "type(test)"
   ]
  },
  {
   "cell_type": "code",
   "execution_count": 6,
   "metadata": {},
   "outputs": [
    {
     "name": "stdout",
     "output_type": "stream",
     "text": [
      "AutoML progress: |████████████████████████████████████████████████████████| 100%\n"
     ]
    }
   ],
   "source": [
    "# Run AutoML for 20 base models (limited to 1 hour max runtime by default)\n",
    "aml = H2OAutoML(max_models=20, seed=1)\n",
    "\n",
    "\n",
    "aml.train(x=x, y=y, training_frame=train)"
   ]
  },
  {
   "cell_type": "code",
   "execution_count": 8,
   "metadata": {},
   "outputs": [
    {
     "data": {
      "text/html": [
       "<table>\n",
       "<thead>\n",
       "<tr><th>model_id                                           </th><th style=\"text-align: right;\">     auc</th><th style=\"text-align: right;\">  logloss</th><th style=\"text-align: right;\">   aucpr</th><th style=\"text-align: right;\">  mean_per_class_error</th><th style=\"text-align: right;\">    rmse</th><th style=\"text-align: right;\">     mse</th></tr>\n",
       "</thead>\n",
       "<tbody>\n",
       "<tr><td>StackedEnsemble_AllModels_AutoML_20200131_132202   </td><td style=\"text-align: right;\">0.789034</td><td style=\"text-align: right;\"> 0.552297</td><td style=\"text-align: right;\">0.803844</td><td style=\"text-align: right;\">              0.31333 </td><td style=\"text-align: right;\">0.432568</td><td style=\"text-align: right;\">0.187115</td></tr>\n",
       "<tr><td>StackedEnsemble_BestOfFamily_AutoML_20200131_132202</td><td style=\"text-align: right;\">0.788366</td><td style=\"text-align: right;\"> 0.553096</td><td style=\"text-align: right;\">0.803551</td><td style=\"text-align: right;\">              0.314169</td><td style=\"text-align: right;\">0.432843</td><td style=\"text-align: right;\">0.187353</td></tr>\n",
       "<tr><td>XGBoost_grid__1_AutoML_20200131_132202_model_3     </td><td style=\"text-align: right;\">0.784783</td><td style=\"text-align: right;\"> 0.558539</td><td style=\"text-align: right;\">0.802597</td><td style=\"text-align: right;\">              0.328578</td><td style=\"text-align: right;\">0.435036</td><td style=\"text-align: right;\">0.189256</td></tr>\n",
       "<tr><td>XGBoost_grid__1_AutoML_20200131_132202_model_1     </td><td style=\"text-align: right;\">0.784653</td><td style=\"text-align: right;\"> 0.5581  </td><td style=\"text-align: right;\">0.802569</td><td style=\"text-align: right;\">              0.319823</td><td style=\"text-align: right;\">0.434987</td><td style=\"text-align: right;\">0.189214</td></tr>\n",
       "<tr><td>XGBoost_3_AutoML_20200131_132202                   </td><td style=\"text-align: right;\">0.783759</td><td style=\"text-align: right;\"> 0.558382</td><td style=\"text-align: right;\">0.80096 </td><td style=\"text-align: right;\">              0.322163</td><td style=\"text-align: right;\">0.435252</td><td style=\"text-align: right;\">0.189445</td></tr>\n",
       "<tr><td>XGBoost_grid__1_AutoML_20200131_132202_model_4     </td><td style=\"text-align: right;\">0.783664</td><td style=\"text-align: right;\"> 0.557696</td><td style=\"text-align: right;\">0.802604</td><td style=\"text-align: right;\">              0.33427 </td><td style=\"text-align: right;\">0.43517 </td><td style=\"text-align: right;\">0.189373</td></tr>\n",
       "<tr><td>GBM_5_AutoML_20200131_132202                       </td><td style=\"text-align: right;\">0.78219 </td><td style=\"text-align: right;\"> 0.558353</td><td style=\"text-align: right;\">0.800234</td><td style=\"text-align: right;\">              0.319658</td><td style=\"text-align: right;\">0.435512</td><td style=\"text-align: right;\">0.18967 </td></tr>\n",
       "<tr><td>XGBoost_2_AutoML_20200131_132202                   </td><td style=\"text-align: right;\">0.782155</td><td style=\"text-align: right;\"> 0.557366</td><td style=\"text-align: right;\">0.801728</td><td style=\"text-align: right;\">              0.337128</td><td style=\"text-align: right;\">0.435331</td><td style=\"text-align: right;\">0.189514</td></tr>\n",
       "<tr><td>XGBoost_1_AutoML_20200131_132202                   </td><td style=\"text-align: right;\">0.780395</td><td style=\"text-align: right;\"> 0.5593  </td><td style=\"text-align: right;\">0.800388</td><td style=\"text-align: right;\">              0.322149</td><td style=\"text-align: right;\">0.436235</td><td style=\"text-align: right;\">0.190301</td></tr>\n",
       "<tr><td>GBM_2_AutoML_20200131_132202                       </td><td style=\"text-align: right;\">0.777673</td><td style=\"text-align: right;\"> 0.562514</td><td style=\"text-align: right;\">0.796181</td><td style=\"text-align: right;\">              0.334056</td><td style=\"text-align: right;\">0.437583</td><td style=\"text-align: right;\">0.191479</td></tr>\n",
       "</tbody>\n",
       "</table>"
      ]
     },
     "metadata": {},
     "output_type": "display_data"
    },
    {
     "data": {
      "text/plain": []
     },
     "execution_count": 8,
     "metadata": {},
     "output_type": "execute_result"
    }
   ],
   "source": [
    "# AutoML Leaderboard\n",
    "lb = aml.leaderboard\n",
    "lb"
   ]
  },
  {
   "cell_type": "code",
   "execution_count": 9,
   "metadata": {},
   "outputs": [
    {
     "data": {
      "text/html": [
       "<table>\n",
       "<thead>\n",
       "<tr><th>model_id                                           </th><th style=\"text-align: right;\">     auc</th><th style=\"text-align: right;\">  logloss</th><th style=\"text-align: right;\">   aucpr</th><th style=\"text-align: right;\">  mean_per_class_error</th><th style=\"text-align: right;\">    rmse</th><th style=\"text-align: right;\">     mse</th><th style=\"text-align: right;\">  training_time_ms</th><th style=\"text-align: right;\">  predict_time_per_row_ms</th></tr>\n",
       "</thead>\n",
       "<tbody>\n",
       "<tr><td>StackedEnsemble_AllModels_AutoML_20200131_132202   </td><td style=\"text-align: right;\">0.789034</td><td style=\"text-align: right;\"> 0.552297</td><td style=\"text-align: right;\">0.803844</td><td style=\"text-align: right;\">              0.31333 </td><td style=\"text-align: right;\">0.432568</td><td style=\"text-align: right;\">0.187115</td><td style=\"text-align: right;\">              1325</td><td style=\"text-align: right;\">                 0.090722</td></tr>\n",
       "<tr><td>StackedEnsemble_BestOfFamily_AutoML_20200131_132202</td><td style=\"text-align: right;\">0.788366</td><td style=\"text-align: right;\"> 0.553096</td><td style=\"text-align: right;\">0.803551</td><td style=\"text-align: right;\">              0.314169</td><td style=\"text-align: right;\">0.432843</td><td style=\"text-align: right;\">0.187353</td><td style=\"text-align: right;\">               895</td><td style=\"text-align: right;\">                 0.042382</td></tr>\n",
       "<tr><td>XGBoost_grid__1_AutoML_20200131_132202_model_3     </td><td style=\"text-align: right;\">0.784783</td><td style=\"text-align: right;\"> 0.558539</td><td style=\"text-align: right;\">0.802597</td><td style=\"text-align: right;\">              0.328578</td><td style=\"text-align: right;\">0.435036</td><td style=\"text-align: right;\">0.189256</td><td style=\"text-align: right;\">              3208</td><td style=\"text-align: right;\">                 0.004097</td></tr>\n",
       "<tr><td>XGBoost_grid__1_AutoML_20200131_132202_model_1     </td><td style=\"text-align: right;\">0.784653</td><td style=\"text-align: right;\"> 0.5581  </td><td style=\"text-align: right;\">0.802569</td><td style=\"text-align: right;\">              0.319823</td><td style=\"text-align: right;\">0.434987</td><td style=\"text-align: right;\">0.189214</td><td style=\"text-align: right;\">              6082</td><td style=\"text-align: right;\">                 0.004136</td></tr>\n",
       "<tr><td>XGBoost_3_AutoML_20200131_132202                   </td><td style=\"text-align: right;\">0.783759</td><td style=\"text-align: right;\"> 0.558382</td><td style=\"text-align: right;\">0.80096 </td><td style=\"text-align: right;\">              0.322163</td><td style=\"text-align: right;\">0.435252</td><td style=\"text-align: right;\">0.189445</td><td style=\"text-align: right;\">              3726</td><td style=\"text-align: right;\">                 0.003931</td></tr>\n",
       "<tr><td>XGBoost_grid__1_AutoML_20200131_132202_model_4     </td><td style=\"text-align: right;\">0.783664</td><td style=\"text-align: right;\"> 0.557696</td><td style=\"text-align: right;\">0.802604</td><td style=\"text-align: right;\">              0.33427 </td><td style=\"text-align: right;\">0.43517 </td><td style=\"text-align: right;\">0.189373</td><td style=\"text-align: right;\">              2993</td><td style=\"text-align: right;\">                 0.003423</td></tr>\n",
       "<tr><td>GBM_5_AutoML_20200131_132202                       </td><td style=\"text-align: right;\">0.78219 </td><td style=\"text-align: right;\"> 0.558353</td><td style=\"text-align: right;\">0.800234</td><td style=\"text-align: right;\">              0.319658</td><td style=\"text-align: right;\">0.435512</td><td style=\"text-align: right;\">0.18967 </td><td style=\"text-align: right;\">              1132</td><td style=\"text-align: right;\">                 0.006699</td></tr>\n",
       "<tr><td>XGBoost_2_AutoML_20200131_132202                   </td><td style=\"text-align: right;\">0.782155</td><td style=\"text-align: right;\"> 0.557366</td><td style=\"text-align: right;\">0.801728</td><td style=\"text-align: right;\">              0.337128</td><td style=\"text-align: right;\">0.435331</td><td style=\"text-align: right;\">0.189514</td><td style=\"text-align: right;\">              4262</td><td style=\"text-align: right;\">                 0.005729</td></tr>\n",
       "<tr><td>XGBoost_1_AutoML_20200131_132202                   </td><td style=\"text-align: right;\">0.780395</td><td style=\"text-align: right;\"> 0.5593  </td><td style=\"text-align: right;\">0.800388</td><td style=\"text-align: right;\">              0.322149</td><td style=\"text-align: right;\">0.436235</td><td style=\"text-align: right;\">0.190301</td><td style=\"text-align: right;\">              5700</td><td style=\"text-align: right;\">                 0.005101</td></tr>\n",
       "<tr><td>GBM_2_AutoML_20200131_132202                       </td><td style=\"text-align: right;\">0.777673</td><td style=\"text-align: right;\"> 0.562514</td><td style=\"text-align: right;\">0.796181</td><td style=\"text-align: right;\">              0.334056</td><td style=\"text-align: right;\">0.437583</td><td style=\"text-align: right;\">0.191479</td><td style=\"text-align: right;\">               950</td><td style=\"text-align: right;\">                 0.00624 </td></tr>\n",
       "</tbody>\n",
       "</table>"
      ]
     },
     "metadata": {},
     "output_type": "display_data"
    },
    {
     "data": {
      "text/plain": []
     },
     "execution_count": 9,
     "metadata": {},
     "output_type": "execute_result"
    }
   ],
   "source": [
    "# Optionally add extra model information to the leaderboard\n",
    "lb = get_leaderboard(aml, extra_columns='ALL')\n",
    "lb"
   ]
  },
  {
   "cell_type": "code",
   "execution_count": 10,
   "metadata": {},
   "outputs": [
    {
     "data": {
      "text/html": [
       "<table>\n",
       "<thead>\n",
       "<tr><th>model_id                                           </th><th style=\"text-align: right;\">     auc</th><th style=\"text-align: right;\">  logloss</th><th style=\"text-align: right;\">   aucpr</th><th style=\"text-align: right;\">  mean_per_class_error</th><th style=\"text-align: right;\">    rmse</th><th style=\"text-align: right;\">     mse</th><th style=\"text-align: right;\">  training_time_ms</th><th style=\"text-align: right;\">  predict_time_per_row_ms</th></tr>\n",
       "</thead>\n",
       "<tbody>\n",
       "<tr><td>StackedEnsemble_AllModels_AutoML_20200131_132202   </td><td style=\"text-align: right;\">0.789034</td><td style=\"text-align: right;\"> 0.552297</td><td style=\"text-align: right;\">0.803844</td><td style=\"text-align: right;\">              0.31333 </td><td style=\"text-align: right;\">0.432568</td><td style=\"text-align: right;\">0.187115</td><td style=\"text-align: right;\">              1325</td><td style=\"text-align: right;\">                 0.090722</td></tr>\n",
       "<tr><td>StackedEnsemble_BestOfFamily_AutoML_20200131_132202</td><td style=\"text-align: right;\">0.788366</td><td style=\"text-align: right;\"> 0.553096</td><td style=\"text-align: right;\">0.803551</td><td style=\"text-align: right;\">              0.314169</td><td style=\"text-align: right;\">0.432843</td><td style=\"text-align: right;\">0.187353</td><td style=\"text-align: right;\">               895</td><td style=\"text-align: right;\">                 0.042382</td></tr>\n",
       "<tr><td>XGBoost_grid__1_AutoML_20200131_132202_model_3     </td><td style=\"text-align: right;\">0.784783</td><td style=\"text-align: right;\"> 0.558539</td><td style=\"text-align: right;\">0.802597</td><td style=\"text-align: right;\">              0.328578</td><td style=\"text-align: right;\">0.435036</td><td style=\"text-align: right;\">0.189256</td><td style=\"text-align: right;\">              3208</td><td style=\"text-align: right;\">                 0.004097</td></tr>\n",
       "<tr><td>XGBoost_grid__1_AutoML_20200131_132202_model_1     </td><td style=\"text-align: right;\">0.784653</td><td style=\"text-align: right;\"> 0.5581  </td><td style=\"text-align: right;\">0.802569</td><td style=\"text-align: right;\">              0.319823</td><td style=\"text-align: right;\">0.434987</td><td style=\"text-align: right;\">0.189214</td><td style=\"text-align: right;\">              6082</td><td style=\"text-align: right;\">                 0.004136</td></tr>\n",
       "<tr><td>XGBoost_3_AutoML_20200131_132202                   </td><td style=\"text-align: right;\">0.783759</td><td style=\"text-align: right;\"> 0.558382</td><td style=\"text-align: right;\">0.80096 </td><td style=\"text-align: right;\">              0.322163</td><td style=\"text-align: right;\">0.435252</td><td style=\"text-align: right;\">0.189445</td><td style=\"text-align: right;\">              3726</td><td style=\"text-align: right;\">                 0.003931</td></tr>\n",
       "<tr><td>XGBoost_grid__1_AutoML_20200131_132202_model_4     </td><td style=\"text-align: right;\">0.783664</td><td style=\"text-align: right;\"> 0.557696</td><td style=\"text-align: right;\">0.802604</td><td style=\"text-align: right;\">              0.33427 </td><td style=\"text-align: right;\">0.43517 </td><td style=\"text-align: right;\">0.189373</td><td style=\"text-align: right;\">              2993</td><td style=\"text-align: right;\">                 0.003423</td></tr>\n",
       "<tr><td>GBM_5_AutoML_20200131_132202                       </td><td style=\"text-align: right;\">0.78219 </td><td style=\"text-align: right;\"> 0.558353</td><td style=\"text-align: right;\">0.800234</td><td style=\"text-align: right;\">              0.319658</td><td style=\"text-align: right;\">0.435512</td><td style=\"text-align: right;\">0.18967 </td><td style=\"text-align: right;\">              1132</td><td style=\"text-align: right;\">                 0.006699</td></tr>\n",
       "<tr><td>XGBoost_2_AutoML_20200131_132202                   </td><td style=\"text-align: right;\">0.782155</td><td style=\"text-align: right;\"> 0.557366</td><td style=\"text-align: right;\">0.801728</td><td style=\"text-align: right;\">              0.337128</td><td style=\"text-align: right;\">0.435331</td><td style=\"text-align: right;\">0.189514</td><td style=\"text-align: right;\">              4262</td><td style=\"text-align: right;\">                 0.005729</td></tr>\n",
       "<tr><td>XGBoost_1_AutoML_20200131_132202                   </td><td style=\"text-align: right;\">0.780395</td><td style=\"text-align: right;\"> 0.5593  </td><td style=\"text-align: right;\">0.800388</td><td style=\"text-align: right;\">              0.322149</td><td style=\"text-align: right;\">0.436235</td><td style=\"text-align: right;\">0.190301</td><td style=\"text-align: right;\">              5700</td><td style=\"text-align: right;\">                 0.005101</td></tr>\n",
       "<tr><td>GBM_2_AutoML_20200131_132202                       </td><td style=\"text-align: right;\">0.777673</td><td style=\"text-align: right;\"> 0.562514</td><td style=\"text-align: right;\">0.796181</td><td style=\"text-align: right;\">              0.334056</td><td style=\"text-align: right;\">0.437583</td><td style=\"text-align: right;\">0.191479</td><td style=\"text-align: right;\">               950</td><td style=\"text-align: right;\">                 0.00624 </td></tr>\n",
       "<tr><td>GBM_1_AutoML_20200131_132202                       </td><td style=\"text-align: right;\">0.777294</td><td style=\"text-align: right;\"> 0.562744</td><td style=\"text-align: right;\">0.798244</td><td style=\"text-align: right;\">              0.356261</td><td style=\"text-align: right;\">0.437727</td><td style=\"text-align: right;\">0.191605</td><td style=\"text-align: right;\">               981</td><td style=\"text-align: right;\">                 0.006052</td></tr>\n",
       "<tr><td>GBM_3_AutoML_20200131_132202                       </td><td style=\"text-align: right;\">0.775488</td><td style=\"text-align: right;\"> 0.564794</td><td style=\"text-align: right;\">0.793585</td><td style=\"text-align: right;\">              0.327971</td><td style=\"text-align: right;\">0.438722</td><td style=\"text-align: right;\">0.192477</td><td style=\"text-align: right;\">               951</td><td style=\"text-align: right;\">                 0.006183</td></tr>\n",
       "<tr><td>GBM_grid__1_AutoML_20200131_132202_model_1         </td><td style=\"text-align: right;\">0.772656</td><td style=\"text-align: right;\"> 0.568314</td><td style=\"text-align: right;\">0.79164 </td><td style=\"text-align: right;\">              0.332175</td><td style=\"text-align: right;\">0.440049</td><td style=\"text-align: right;\">0.193643</td><td style=\"text-align: right;\">              2493</td><td style=\"text-align: right;\">                 0.008037</td></tr>\n",
       "<tr><td>GBM_4_AutoML_20200131_132202                       </td><td style=\"text-align: right;\">0.77248 </td><td style=\"text-align: right;\"> 0.569483</td><td style=\"text-align: right;\">0.791078</td><td style=\"text-align: right;\">              0.336913</td><td style=\"text-align: right;\">0.440873</td><td style=\"text-align: right;\">0.194369</td><td style=\"text-align: right;\">              1199</td><td style=\"text-align: right;\">                 0.006557</td></tr>\n",
       "<tr><td>XGBoost_grid__1_AutoML_20200131_132202_model_2     </td><td style=\"text-align: right;\">0.770723</td><td style=\"text-align: right;\"> 0.579883</td><td style=\"text-align: right;\">0.789715</td><td style=\"text-align: right;\">              0.331893</td><td style=\"text-align: right;\">0.444775</td><td style=\"text-align: right;\">0.197824</td><td style=\"text-align: right;\">              9543</td><td style=\"text-align: right;\">                 0.006764</td></tr>\n",
       "<tr><td>DRF_1_AutoML_20200131_132202                       </td><td style=\"text-align: right;\">0.764975</td><td style=\"text-align: right;\"> 0.5801  </td><td style=\"text-align: right;\">0.781588</td><td style=\"text-align: right;\">              0.336001</td><td style=\"text-align: right;\">0.445222</td><td style=\"text-align: right;\">0.198222</td><td style=\"text-align: right;\">              2226</td><td style=\"text-align: right;\">                 0.008495</td></tr>\n",
       "<tr><td>XRT_1_AutoML_20200131_132202                       </td><td style=\"text-align: right;\">0.759957</td><td style=\"text-align: right;\"> 0.585158</td><td style=\"text-align: right;\">0.776857</td><td style=\"text-align: right;\">              0.338976</td><td style=\"text-align: right;\">0.447598</td><td style=\"text-align: right;\">0.200344</td><td style=\"text-align: right;\">              2315</td><td style=\"text-align: right;\">                 0.008438</td></tr>\n",
       "<tr><td>GBM_grid__1_AutoML_20200131_132202_model_2         </td><td style=\"text-align: right;\">0.748007</td><td style=\"text-align: right;\"> 0.632981</td><td style=\"text-align: right;\">0.758833</td><td style=\"text-align: right;\">              0.375308</td><td style=\"text-align: right;\">0.462237</td><td style=\"text-align: right;\">0.213663</td><td style=\"text-align: right;\">              1196</td><td style=\"text-align: right;\">                 0.004619</td></tr>\n",
       "<tr><td>DeepLearning_grid__2_AutoML_20200131_132202_model_1</td><td style=\"text-align: right;\">0.737246</td><td style=\"text-align: right;\"> 0.602267</td><td style=\"text-align: right;\">0.746696</td><td style=\"text-align: right;\">              0.361027</td><td style=\"text-align: right;\">0.455366</td><td style=\"text-align: right;\">0.207359</td><td style=\"text-align: right;\">             43982</td><td style=\"text-align: right;\">                 0.02038 </td></tr>\n",
       "<tr><td>DeepLearning_1_AutoML_20200131_132202              </td><td style=\"text-align: right;\">0.711564</td><td style=\"text-align: right;\"> 0.626484</td><td style=\"text-align: right;\">0.710229</td><td style=\"text-align: right;\">              0.390657</td><td style=\"text-align: right;\">0.466374</td><td style=\"text-align: right;\">0.217504</td><td style=\"text-align: right;\">               614</td><td style=\"text-align: right;\">                 0.002502</td></tr>\n",
       "<tr><td>DeepLearning_grid__1_AutoML_20200131_132202_model_1</td><td style=\"text-align: right;\">0.694926</td><td style=\"text-align: right;\"> 0.673484</td><td style=\"text-align: right;\">0.692344</td><td style=\"text-align: right;\">              0.387184</td><td style=\"text-align: right;\">0.477779</td><td style=\"text-align: right;\">0.228273</td><td style=\"text-align: right;\">             32200</td><td style=\"text-align: right;\">                 0.005158</td></tr>\n",
       "<tr><td>GLM_1_AutoML_20200131_132202                       </td><td style=\"text-align: right;\">0.682648</td><td style=\"text-align: right;\"> 0.63852 </td><td style=\"text-align: right;\">0.680344</td><td style=\"text-align: right;\">              0.397234</td><td style=\"text-align: right;\">0.472683</td><td style=\"text-align: right;\">0.223429</td><td style=\"text-align: right;\">               422</td><td style=\"text-align: right;\">                 0.003142</td></tr>\n",
       "</tbody>\n",
       "</table>"
      ]
     },
     "metadata": {},
     "output_type": "display_data"
    },
    {
     "data": {
      "text/plain": []
     },
     "execution_count": 10,
     "metadata": {},
     "output_type": "execute_result"
    }
   ],
   "source": [
    "# Print all rows (instead of default 10 rows)\n",
    "lb.head(rows=lb.nrows)"
   ]
  }
 ],
 "metadata": {
  "kernelspec": {
   "display_name": "Python 3",
   "language": "python",
   "name": "python3"
  },
  "language_info": {
   "codemirror_mode": {
    "name": "ipython",
    "version": 3
   },
   "file_extension": ".py",
   "mimetype": "text/x-python",
   "name": "python",
   "nbconvert_exporter": "python",
   "pygments_lexer": "ipython3",
   "version": "3.6.9"
  }
 },
 "nbformat": 4,
 "nbformat_minor": 2
}
